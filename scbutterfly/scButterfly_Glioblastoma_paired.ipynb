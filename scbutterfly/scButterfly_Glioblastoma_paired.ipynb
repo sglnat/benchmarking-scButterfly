{
 "cells": [
  {
   "cell_type": "code",
   "execution_count": 1,
   "metadata": {},
   "outputs": [
    {
     "name": "stdout",
     "output_type": "stream",
     "text": [
      "['__class__', '__delattr__', '__dict__', '__dir__', '__doc__', '__eq__', '__format__', '__ge__', '__getattribute__', '__getstate__', '__gt__', '__hash__', '__init__', '__init_subclass__', '__le__', '__lt__', '__module__', '__ne__', '__new__', '__reduce__', '__reduce_ex__', '__repr__', '__setattr__', '__sizeof__', '__str__', '__subclasshook__', '__weakref__', 'augmentation', 'construct_model', 'data_preprocessing', 'load_data', 'test_model', 'train_model']\n"
     ]
    },
    {
     "name": "stderr",
     "output_type": "stream",
     "text": [
      " FutureWarning:/opt/conda/lib/python3.11/site-packages/anndata/utils.py:429: Importing read_csv from `anndata` is deprecated. Import anndata.io.read_csv instead.\n",
      " FutureWarning:/opt/conda/lib/python3.11/site-packages/anndata/utils.py:429: Importing read_excel from `anndata` is deprecated. Import anndata.io.read_excel instead.\n",
      " FutureWarning:/opt/conda/lib/python3.11/site-packages/anndata/utils.py:429: Importing read_hdf from `anndata` is deprecated. Import anndata.io.read_hdf instead.\n",
      " FutureWarning:/opt/conda/lib/python3.11/site-packages/anndata/utils.py:429: Importing read_loom from `anndata` is deprecated. Import anndata.io.read_loom instead.\n",
      " FutureWarning:/opt/conda/lib/python3.11/site-packages/anndata/utils.py:429: Importing read_mtx from `anndata` is deprecated. Import anndata.io.read_mtx instead.\n",
      " FutureWarning:/opt/conda/lib/python3.11/site-packages/anndata/utils.py:429: Importing read_text from `anndata` is deprecated. Import anndata.io.read_text instead.\n",
      " FutureWarning:/opt/conda/lib/python3.11/site-packages/anndata/utils.py:429: Importing read_umi_tools from `anndata` is deprecated. Import anndata.io.read_umi_tools instead.\n",
      " UserWarning:/opt/conda/lib/python3.11/site-packages/torch/nn/_reduction.py:42: size_average and reduce args will be deprecated, please use reduction='mean' instead.\n"
     ]
    }
   ],
   "source": [
    "import anndata\n",
    "import pandas as pd\n",
    "import scanpy as sc\n",
    "from scButterfly.butterfly import Butterfly\n",
    "print(dir(Butterfly))"
   ]
  },
  {
   "cell_type": "code",
   "execution_count": 2,
   "metadata": {},
   "outputs": [],
   "source": [
    "butterfly = Butterfly()"
   ]
  },
  {
   "cell_type": "code",
   "execution_count": 3,
   "metadata": {},
   "outputs": [],
   "source": [
    "from scipy.io import mmread\n",
    "\n",
    "# Load the matrix, transposition !!!!!!!!!!!!\n",
    "matrix_6419_A = mmread(\"./data/Glioblastoma/GSM8820702_6419_A_matrix.mtx\").tocsc().transpose()\n",
    "\n",
    "# Load barcodes and features\n",
    "barcodes_6419_A = pd.read_csv(\"./data/Glioblastoma/GSM8820702_6419_A_barcodes.tsv\", header=None, sep=\"\\t\")\n",
    "features_6419_A = pd.read_csv(\"./data/Glioblastoma/GSM8820702_6419_A_features.tsv\", header=None, sep=\"\\t\", names=['gene_id', 'gene_name', 'gene_type', 'gene_location', 'gene_start', 'gene_end'], index_col=None)\n",
    "\n",
    "# Create an AnnData object\n",
    "adata_6419_A = anndata.AnnData(X=matrix_6419_A, obs=pd.DataFrame(index=barcodes_6419_A[0]), var=features_6419_A.set_index('gene_id'))"
   ]
  },
  {
   "cell_type": "code",
   "execution_count": 4,
   "metadata": {},
   "outputs": [],
   "source": [
    "#Read metadata\n",
    "metadata = pd.read_csv('./data/Glioblastoma/GSE274986_snrnaseq_metadata.csv', sep=',', index_col=0)\n",
    "metadata.index = metadata.index.astype(str).str.strip()\n",
    "\n",
    "#Cleanup metadata\n",
    "metadata_6419_A = metadata[metadata.index.astype(str).str.startswith('6419_A')]\n",
    "metadata_6419_A.index = metadata_6419_A.index.astype(str).str.replace('^6419_A_', '', regex=True)\n",
    "\n",
    "# Reindex metadata to match the AnnData object\n",
    "# Ensure metadata_6419_A indices match adata.obs indices\n",
    "metadata_6419_A.index = metadata_6419_A.index.astype(str).str.strip()\n",
    "metadata_6419_A = metadata_6419_A.reindex(adata_6419_A.obs.index)\n",
    "metadata_6419_A.index.name = None\n",
    "\n",
    "# Assign the reindexed metadata to adata.obs\n",
    "adata_6419_A.obs = metadata_6419_A"
   ]
  },
  {
   "cell_type": "code",
   "execution_count": 5,
   "metadata": {},
   "outputs": [],
   "source": [
    "# Create ATAC_6419_A: Rows with 'Peaks' in the 'gene_type' column\n",
    "ATAC_6419_A = adata_6419_A[:, adata_6419_A.var['gene_type'] == 'Peaks'].copy()\n",
    "ATAC_6419_A = ATAC_6419_A[:, ATAC_6419_A.var['gene_location'].str.startswith('chr')].copy()\n",
    "\n",
    "# Create RNA_6419_A: Rows with 'Gene Expression' in the 'gene_type' column\n",
    "RNA_6419_A = adata_6419_A[:, adata_6419_A.var['gene_type'] == 'Gene Expression'].copy()"
   ]
  },
  {
   "cell_type": "code",
   "execution_count": 6,
   "metadata": {},
   "outputs": [
    {
     "name": "stdout",
     "output_type": "stream",
     "text": [
      "(10405, 164987)\n",
      "['Peaks']\n",
      "(10405, 36601)\n",
      "['Gene Expression']\n"
     ]
    }
   ],
   "source": [
    "# Verify ATAC_6419_A\n",
    "print(ATAC_6419_A.shape)  # Should show the number of rows with 'Peaks'\n",
    "print(ATAC_6419_A.var['gene_type'].unique())  # Should only contain 'Peaks'\n",
    "\n",
    "# Verify RNA_6419_A\n",
    "print(RNA_6419_A.shape)  # Should show the number of rows with 'Gene Expression'\n",
    "print(RNA_6419_A.var['gene_type'].unique())  # Should only contain 'Gene Expression'"
   ]
  },
  {
   "cell_type": "code",
   "execution_count": 7,
   "metadata": {},
   "outputs": [],
   "source": [
    "from scButterfly.split_datasets import *\n",
    "id_list = five_fold_split_dataset(RNA_data=RNA_6419_A, ATAC_data=ATAC_6419_A)\n",
    "train_id, validation_id, test_id = id_list[4]"
   ]
  },
  {
   "cell_type": "code",
   "execution_count": 8,
   "metadata": {},
   "outputs": [
    {
     "name": "stderr",
     "output_type": "stream",
     "text": [
      "[INFO] Butterfly: successfully load in data with\n",
      "\n",
      "RNA data:\n",
      "AnnData object with n_obs × n_vars = 10405 × 36601\n",
      "    obs: 'nCount_RNA', 'nFeature_RNA', 'Region', 'Pct_mito', 'Sample', 'Batch', 'Patient', 'CellClass_L1', 'CellClass_L2', 'CellClass_L3', 'Platform', 'CCI_CellClass_L1', 'CCI_CellClass_L2', 'Confident_Annotation', 'is_malignant_confident', 'scVI_snn_res.0.5'\n",
      "    var: 'gene_name', 'gene_type', 'gene_location', 'gene_start', 'gene_end'\n",
      "\n",
      "ATAC data:\n",
      "AnnData object with n_obs × n_vars = 10405 × 164987\n",
      "    obs: 'nCount_RNA', 'nFeature_RNA', 'Region', 'Pct_mito', 'Sample', 'Batch', 'Patient', 'CellClass_L1', 'CellClass_L2', 'CellClass_L3', 'Platform', 'CCI_CellClass_L1', 'CCI_CellClass_L2', 'Confident_Annotation', 'is_malignant_confident', 'scVI_snn_res.0.5'\n",
      "    var: 'gene_name', 'gene_type', 'gene_location', 'gene_start', 'gene_end'\n"
     ]
    }
   ],
   "source": [
    "butterfly.load_data(RNA_data=RNA_6419_A, ATAC_data=ATAC_6419_A, train_id=train_id, test_id=test_id, validation_id=validation_id)"
   ]
  },
  {
   "cell_type": "code",
   "execution_count": 9,
   "metadata": {},
   "outputs": [
    {
     "name": "stderr",
     "output_type": "stream",
     "text": [
      "[INFO] RNA preprocessing: normalize size factor.\n",
      "[INFO] RNA preprocessing: log transform RNA data.\n",
      "[INFO] RNA preprocessing: choose top 3000 genes for following training.\n",
      "[INFO] ATAC preprocessing: binarizing data.\n",
      "[INFO] ATAC preprocessing: filter out peaks appear lower than 0.5% cells.\n",
      "[INFO] ATAC preprocessing: TF-IDF transformation.\n",
      "[INFO] ATAC preprocessing: normalizing data.\n"
     ]
    }
   ],
   "source": [
    "butterfly.data_preprocessing()"
   ]
  },
  {
   "cell_type": "code",
   "execution_count": 10,
   "metadata": {},
   "outputs": [
    {
     "data": {
      "text/plain": [
       "gene_id\n",
       "chr1:9803-10696           chr1\n",
       "chr1:181048-181703        chr1\n",
       "chr1:183866-184782        chr1\n",
       "chr1:191028-191940        chr1\n",
       "chr1:629495-630387        chr1\n",
       "                          ... \n",
       "chrY:11332855-11333560    chrY\n",
       "chrY:11333683-11334336    chrY\n",
       "chrY:56836395-56837250    chrY\n",
       "chrY:56850397-56851298    chrY\n",
       "chrY:56870710-56871476    chrY\n",
       "Name: gene_location, Length: 163292, dtype: object"
      ]
     },
     "execution_count": 10,
     "metadata": {},
     "output_type": "execute_result"
    }
   ],
   "source": [
    "butterfly.ATAC_data_p.var.gene_location"
   ]
  },
  {
   "cell_type": "code",
   "execution_count": 13,
   "metadata": {},
   "outputs": [
    {
     "name": "stdout",
     "output_type": "stream",
     "text": [
      "[14728, 7905, 8825, 8067, 4682, 5283, 5177, 5481, 6554, 3983, 4780, 13517, 4504, 1836, 3129, 10811, 7750, 9731, 9189, 8654, 8039, 6842, 3811, 14]163292\n"
     ]
    }
   ],
   "source": [
    "chrom_list = []\n",
    "last_one = ''\n",
    "for i in range(len(butterfly.ATAC_data_p.var.gene_location)):\n",
    "    temp = butterfly.ATAC_data_p.var.gene_location[i]\n",
    "    if temp[0 : 3] == 'chr':        #if the chromosome name starts with 'chr'\n",
    "        if not temp == last_one:    #if chrom name =/= last chrom name\n",
    "            chrom_list.append(1)    #add new element to chrom_list\n",
    "            last_one = temp         #update last chrom name to compare with next\n",
    "        else:                       #if chrom name stays the same\n",
    "            chrom_list[-1] += 1     #add another peak to last chrom in chrom_list\n",
    "    else:                           #if the chromosome name does not start with 'chr'\n",
    "        chrom_list[-1] += 1         #add another peak to last chrom in chrom_list\n",
    "\n",
    "print(chrom_list, end=\"\")           #no. peaks per chromosome\n",
    "print(sum(chrom_list))"
   ]
  },
  {
   "cell_type": "code",
   "execution_count": 14,
   "metadata": {},
   "outputs": [],
   "source": [
    "butterfly.augmentation(aug_type=None)"
   ]
  },
  {
   "cell_type": "code",
   "execution_count": 15,
   "metadata": {},
   "outputs": [
    {
     "name": "stderr",
     "output_type": "stream",
     "text": [
      "[INFO] Butterfly: successfully construct butterfly model.\n"
     ]
    }
   ],
   "source": [
    "butterfly.construct_model(chrom_list)"
   ]
  },
  {
   "cell_type": "code",
   "execution_count": 21,
   "metadata": {},
   "outputs": [
    {
     "name": "stderr",
     "output_type": "stream",
     "text": [
      "[INFO] Butterfly: training butterfly model ...\n",
      "[INFO] Trainer: RNA pretraining ...\n",
      "[INFO] Trainer: RNA pretraining ...\n",
      "RNA pretrain: 100%|█████████████████████| 100/100 [34:23<00:00, 20.63s/it, train=0.0523, val=0.0526]\n",
      "[INFO] Trainer: ATAC pretraining ...\n",
      "[INFO] Trainer: ATAC pretraining ...\n",
      "ATAC pretrain: 100%|████████████████████| 100/100 [35:07<00:00, 21.08s/it, train=0.0048, val=0.0048]\n",
      "[INFO] Trainer: Integrative training ...\n",
      "[INFO] Trainer: Integrative training ...\n",
      "Integrative training:   0%|                                                 | 0/200 [00:03<?, ?it/s]\n"
     ]
    },
    {
     "ename": "ValueError",
     "evalue": "too many values to unpack (expected 6)",
     "output_type": "error",
     "traceback": [
      "\u001b[0;31m---------------------------------------------------------------------------\u001b[0m",
      "\u001b[0;31mValueError\u001b[0m                                Traceback (most recent call last)",
      "Cell \u001b[0;32mIn[21], line 1\u001b[0m\n\u001b[0;32m----> 1\u001b[0m \u001b[43mbutterfly\u001b[49m\u001b[38;5;241;43m.\u001b[39;49m\u001b[43mtrain_model\u001b[49m\u001b[43m(\u001b[49m\u001b[43m)\u001b[49m \u001b[38;5;66;03m#(output_path='./data/Glioblastoma/scbutterfly_model_6419_A', logging_path='./data/Glioblastoma/scbutterfly_model_6419_A/logs')\u001b[39;00m\n",
      "File \u001b[0;32m/opt/conda/lib/python3.11/site-packages/scButterfly/butterfly.py:594\u001b[0m, in \u001b[0;36mButterfly.train_model\u001b[0;34m(self, R_encoder_lr, A_encoder_lr, R_decoder_lr, A_decoder_lr, R_translator_lr, A_translator_lr, translator_lr, discriminator_lr, R2R_pretrain_epoch, A2A_pretrain_epoch, lock_encoder_and_decoder, translator_epoch, patience, batch_size, r_loss, a_loss, d_loss, loss_weight, output_path, seed, kl_mean, R_pretrain_kl_warmup, A_pretrain_kl_warmup, translation_kl_warmup, load_model, logging_path)\u001b[0m\n\u001b[1;32m    592\u001b[0m kl_div \u001b[38;5;241m=\u001b[39m R_kl_div \u001b[38;5;241m+\u001b[39m A_kl_div\n\u001b[1;32m    593\u001b[0m loss_weight\u001b[38;5;241m.\u001b[39mextend([R_kl_div, A_kl_div, kl_div])\n\u001b[0;32m--> 594\u001b[0m \u001b[38;5;28;43mself\u001b[39;49m\u001b[38;5;241;43m.\u001b[39;49m\u001b[43mmodel\u001b[49m\u001b[38;5;241;43m.\u001b[39;49m\u001b[43mtrain\u001b[49m\u001b[43m(\u001b[49m\n\u001b[1;32m    595\u001b[0m \u001b[43m    \u001b[49m\u001b[43mR_encoder_lr\u001b[49m\u001b[43m \u001b[49m\u001b[38;5;241;43m=\u001b[39;49m\u001b[43m \u001b[49m\u001b[43mR_encoder_lr\u001b[49m\u001b[43m,\u001b[49m\n\u001b[1;32m    596\u001b[0m \u001b[43m    \u001b[49m\u001b[43mA_encoder_lr\u001b[49m\u001b[43m \u001b[49m\u001b[38;5;241;43m=\u001b[39;49m\u001b[43m \u001b[49m\u001b[43mA_encoder_lr\u001b[49m\u001b[43m,\u001b[49m\n\u001b[1;32m    597\u001b[0m \u001b[43m    \u001b[49m\u001b[43mR_decoder_lr\u001b[49m\u001b[43m \u001b[49m\u001b[38;5;241;43m=\u001b[39;49m\u001b[43m \u001b[49m\u001b[43mR_decoder_lr\u001b[49m\u001b[43m,\u001b[49m\n\u001b[1;32m    598\u001b[0m \u001b[43m    \u001b[49m\u001b[43mA_decoder_lr\u001b[49m\u001b[43m \u001b[49m\u001b[38;5;241;43m=\u001b[39;49m\u001b[43m \u001b[49m\u001b[43mA_decoder_lr\u001b[49m\u001b[43m,\u001b[49m\n\u001b[1;32m    599\u001b[0m \u001b[43m    \u001b[49m\u001b[43mR_translator_lr\u001b[49m\u001b[43m \u001b[49m\u001b[38;5;241;43m=\u001b[39;49m\u001b[43m \u001b[49m\u001b[43mR_translator_lr\u001b[49m\u001b[43m,\u001b[49m\n\u001b[1;32m    600\u001b[0m \u001b[43m    \u001b[49m\u001b[43mA_translator_lr\u001b[49m\u001b[43m \u001b[49m\u001b[38;5;241;43m=\u001b[39;49m\u001b[43m \u001b[49m\u001b[43mA_translator_lr\u001b[49m\u001b[43m,\u001b[49m\n\u001b[1;32m    601\u001b[0m \u001b[43m    \u001b[49m\u001b[43mtranslator_lr\u001b[49m\u001b[43m \u001b[49m\u001b[38;5;241;43m=\u001b[39;49m\u001b[43m \u001b[49m\u001b[43mtranslator_lr\u001b[49m\u001b[43m,\u001b[49m\n\u001b[1;32m    602\u001b[0m \u001b[43m    \u001b[49m\u001b[43mdiscriminator_lr\u001b[49m\u001b[43m \u001b[49m\u001b[38;5;241;43m=\u001b[39;49m\u001b[43m \u001b[49m\u001b[43mdiscriminator_lr\u001b[49m\u001b[43m,\u001b[49m\n\u001b[1;32m    603\u001b[0m \u001b[43m    \u001b[49m\u001b[43mR2R_pretrain_epoch\u001b[49m\u001b[43m \u001b[49m\u001b[38;5;241;43m=\u001b[39;49m\u001b[43m \u001b[49m\u001b[43mR2R_pretrain_epoch\u001b[49m\u001b[43m,\u001b[49m\n\u001b[1;32m    604\u001b[0m \u001b[43m    \u001b[49m\u001b[43mA2A_pretrain_epoch\u001b[49m\u001b[43m \u001b[49m\u001b[38;5;241;43m=\u001b[39;49m\u001b[43m \u001b[49m\u001b[43mA2A_pretrain_epoch\u001b[49m\u001b[43m,\u001b[49m\n\u001b[1;32m    605\u001b[0m \u001b[43m    \u001b[49m\u001b[43mlock_encoder_and_decoder\u001b[49m\u001b[43m \u001b[49m\u001b[38;5;241;43m=\u001b[39;49m\u001b[43m \u001b[49m\u001b[43mlock_encoder_and_decoder\u001b[49m\u001b[43m,\u001b[49m\n\u001b[1;32m    606\u001b[0m \u001b[43m    \u001b[49m\u001b[43mtranslator_epoch\u001b[49m\u001b[43m \u001b[49m\u001b[38;5;241;43m=\u001b[39;49m\u001b[43m \u001b[49m\u001b[43mtranslator_epoch\u001b[49m\u001b[43m,\u001b[49m\n\u001b[1;32m    607\u001b[0m \u001b[43m    \u001b[49m\u001b[43mpatience\u001b[49m\u001b[43m \u001b[49m\u001b[38;5;241;43m=\u001b[39;49m\u001b[43m \u001b[49m\u001b[43mpatience\u001b[49m\u001b[43m,\u001b[49m\n\u001b[1;32m    608\u001b[0m \u001b[43m    \u001b[49m\u001b[43mbatch_size\u001b[49m\u001b[43m \u001b[49m\u001b[38;5;241;43m=\u001b[39;49m\u001b[43m \u001b[49m\u001b[43mbatch_size\u001b[49m\u001b[43m,\u001b[49m\n\u001b[1;32m    609\u001b[0m \u001b[43m    \u001b[49m\u001b[43mr_loss\u001b[49m\u001b[43m \u001b[49m\u001b[38;5;241;43m=\u001b[39;49m\u001b[43m \u001b[49m\u001b[43mr_loss\u001b[49m\u001b[43m,\u001b[49m\n\u001b[1;32m    610\u001b[0m \u001b[43m    \u001b[49m\u001b[43ma_loss\u001b[49m\u001b[43m \u001b[49m\u001b[38;5;241;43m=\u001b[39;49m\u001b[43m \u001b[49m\u001b[43ma_loss\u001b[49m\u001b[43m,\u001b[49m\n\u001b[1;32m    611\u001b[0m \u001b[43m    \u001b[49m\u001b[43md_loss\u001b[49m\u001b[43m \u001b[49m\u001b[38;5;241;43m=\u001b[39;49m\u001b[43m \u001b[49m\u001b[43md_loss\u001b[49m\u001b[43m,\u001b[49m\n\u001b[1;32m    612\u001b[0m \u001b[43m    \u001b[49m\u001b[43mloss_weight\u001b[49m\u001b[43m \u001b[49m\u001b[38;5;241;43m=\u001b[39;49m\u001b[43m \u001b[49m\u001b[43mloss_weight\u001b[49m\u001b[43m,\u001b[49m\n\u001b[1;32m    613\u001b[0m \u001b[43m    \u001b[49m\u001b[43mtrain_id_r\u001b[49m\u001b[43m \u001b[49m\u001b[38;5;241;43m=\u001b[39;49m\u001b[43m \u001b[49m\u001b[38;5;28;43mself\u001b[39;49m\u001b[38;5;241;43m.\u001b[39;49m\u001b[43mtrain_id_r\u001b[49m\u001b[43m,\u001b[49m\n\u001b[1;32m    614\u001b[0m \u001b[43m    \u001b[49m\u001b[43mtrain_id_a\u001b[49m\u001b[43m \u001b[49m\u001b[38;5;241;43m=\u001b[39;49m\u001b[43m \u001b[49m\u001b[38;5;28;43mself\u001b[39;49m\u001b[38;5;241;43m.\u001b[39;49m\u001b[43mtrain_id_a\u001b[49m\u001b[43m,\u001b[49m\n\u001b[1;32m    615\u001b[0m \u001b[43m    \u001b[49m\u001b[43mvalidation_id_r\u001b[49m\u001b[43m \u001b[49m\u001b[38;5;241;43m=\u001b[39;49m\u001b[43m \u001b[49m\u001b[38;5;28;43mself\u001b[39;49m\u001b[38;5;241;43m.\u001b[39;49m\u001b[43mvalidation_id_r\u001b[49m\u001b[43m,\u001b[49m\u001b[43m \u001b[49m\n\u001b[1;32m    616\u001b[0m \u001b[43m    \u001b[49m\u001b[43mvalidation_id_a\u001b[49m\u001b[43m \u001b[49m\u001b[38;5;241;43m=\u001b[39;49m\u001b[43m \u001b[49m\u001b[38;5;28;43mself\u001b[39;49m\u001b[38;5;241;43m.\u001b[39;49m\u001b[43mvalidation_id_a\u001b[49m\u001b[43m,\u001b[49m\u001b[43m \u001b[49m\n\u001b[1;32m    617\u001b[0m \u001b[43m    \u001b[49m\u001b[43moutput_path\u001b[49m\u001b[43m \u001b[49m\u001b[38;5;241;43m=\u001b[39;49m\u001b[43m \u001b[49m\u001b[43moutput_path\u001b[49m\u001b[43m,\u001b[49m\n\u001b[1;32m    618\u001b[0m \u001b[43m    \u001b[49m\u001b[43mseed\u001b[49m\u001b[43m \u001b[49m\u001b[38;5;241;43m=\u001b[39;49m\u001b[43m \u001b[49m\u001b[43mseed\u001b[49m\u001b[43m,\u001b[49m\n\u001b[1;32m    619\u001b[0m \u001b[43m    \u001b[49m\u001b[43mkl_mean\u001b[49m\u001b[43m \u001b[49m\u001b[38;5;241;43m=\u001b[39;49m\u001b[43m \u001b[49m\u001b[43mkl_mean\u001b[49m\u001b[43m,\u001b[49m\n\u001b[1;32m    620\u001b[0m \u001b[43m    \u001b[49m\u001b[43mR_pretrain_kl_warmup\u001b[49m\u001b[43m \u001b[49m\u001b[38;5;241;43m=\u001b[39;49m\u001b[43m \u001b[49m\u001b[43mR_pretrain_kl_warmup\u001b[49m\u001b[43m,\u001b[49m\n\u001b[1;32m    621\u001b[0m \u001b[43m    \u001b[49m\u001b[43mA_pretrain_kl_warmup\u001b[49m\u001b[43m \u001b[49m\u001b[38;5;241;43m=\u001b[39;49m\u001b[43m \u001b[49m\u001b[43mA_pretrain_kl_warmup\u001b[49m\u001b[43m,\u001b[49m\n\u001b[1;32m    622\u001b[0m \u001b[43m    \u001b[49m\u001b[43mtranslation_kl_warmup\u001b[49m\u001b[43m \u001b[49m\u001b[38;5;241;43m=\u001b[39;49m\u001b[43m \u001b[49m\u001b[43mtranslation_kl_warmup\u001b[49m\u001b[43m,\u001b[49m\n\u001b[1;32m    623\u001b[0m \u001b[43m    \u001b[49m\u001b[43mload_model\u001b[49m\u001b[43m \u001b[49m\u001b[38;5;241;43m=\u001b[39;49m\u001b[43m \u001b[49m\u001b[43mload_model\u001b[49m\u001b[43m,\u001b[49m\n\u001b[1;32m    624\u001b[0m \u001b[43m    \u001b[49m\u001b[43mlogging_path\u001b[49m\u001b[43m \u001b[49m\u001b[38;5;241;43m=\u001b[39;49m\u001b[43m \u001b[49m\u001b[43mlogging_path\u001b[49m\n\u001b[1;32m    625\u001b[0m \u001b[43m\u001b[49m\u001b[43m)\u001b[49m\n",
      "File \u001b[0;32m/opt/conda/lib/python3.11/site-packages/scButterfly/train_model.py:760\u001b[0m, in \u001b[0;36mModel.train\u001b[0;34m(self, loss_weight, train_id_r, train_id_a, validation_id_r, validation_id_a, R_encoder_lr, A_encoder_lr, R_decoder_lr, A_decoder_lr, R_translator_lr, A_translator_lr, translator_lr, discriminator_lr, R2R_pretrain_epoch, A2A_pretrain_epoch, lock_encoder_and_decoder, translator_epoch, patience, batch_size, r_loss, a_loss, d_loss, output_path, seed, kl_mean, R_pretrain_kl_warmup, A_pretrain_kl_warmup, translation_kl_warmup, load_model, logging_path)\u001b[0m\n\u001b[1;32m    758\u001b[0m     weight_temp[\u001b[38;5;241m5\u001b[39m] \u001b[38;5;241m=\u001b[39m loss_weight[\u001b[38;5;241m5\u001b[39m] \u001b[38;5;241m*\u001b[39m epoch \u001b[38;5;241m/\u001b[39m translation_kl_warmup\n\u001b[1;32m    759\u001b[0m loss_d \u001b[38;5;241m=\u001b[39m \u001b[38;5;28mself\u001b[39m\u001b[38;5;241m.\u001b[39mforward_discriminator(batch_samples, RNA_input_dim, ATAC_input_dim, d_loss, \u001b[38;5;124m'\u001b[39m\u001b[38;5;124mtrain\u001b[39m\u001b[38;5;124m'\u001b[39m)\n\u001b[0;32m--> 760\u001b[0m reconstruct_loss, kl_div, loss_g \u001b[38;5;241m=\u001b[39m \u001b[38;5;28;43mself\u001b[39;49m\u001b[38;5;241;43m.\u001b[39;49m\u001b[43mforward_translator\u001b[49m\u001b[43m(\u001b[49m\u001b[43mbatch_samples\u001b[49m\u001b[43m,\u001b[49m\u001b[43m \u001b[49m\u001b[43mRNA_input_dim\u001b[49m\u001b[43m,\u001b[49m\u001b[43m \u001b[49m\u001b[43mATAC_input_dim\u001b[49m\u001b[43m,\u001b[49m\u001b[43m \u001b[49m\u001b[43ma_loss\u001b[49m\u001b[43m,\u001b[49m\u001b[43m \u001b[49m\u001b[43mr_loss\u001b[49m\u001b[43m,\u001b[49m\u001b[43m \u001b[49m\u001b[43mweight_temp\u001b[49m\u001b[43m,\u001b[49m\u001b[43m \u001b[49m\u001b[38;5;124;43m'\u001b[39;49m\u001b[38;5;124;43mtrain\u001b[39;49m\u001b[38;5;124;43m'\u001b[39;49m\u001b[43m,\u001b[49m\u001b[43m \u001b[49m\u001b[43mkl_mean\u001b[49m\u001b[43m)\u001b[49m\n\u001b[1;32m    762\u001b[0m \u001b[38;5;28;01mif\u001b[39;00m loss_d\u001b[38;5;241m.\u001b[39mitem() \u001b[38;5;241m<\u001b[39m \u001b[38;5;241m1.35\u001b[39m:\n\u001b[1;32m    763\u001b[0m     loss_g \u001b[38;5;241m-\u001b[39m\u001b[38;5;241m=\u001b[39m loss_weight[\u001b[38;5;241m2\u001b[39m] \u001b[38;5;241m*\u001b[39m loss_d\n",
      "File \u001b[0;32m/opt/conda/lib/python3.11/site-packages/scButterfly/train_model.py:328\u001b[0m, in \u001b[0;36mModel.forward_translator\u001b[0;34m(self, batch_samples, RNA_input_dim, ATAC_input_dim, a_loss, r_loss, loss_weight, forward_type, kl_div_mean)\u001b[0m\n\u001b[1;32m    325\u001b[0m     kl_div_a \u001b[38;5;241m=\u001b[39m torch\u001b[38;5;241m.\u001b[39mclamp(\u001b[38;5;241m-\u001b[39m \u001b[38;5;241m0.5\u001b[39m \u001b[38;5;241m*\u001b[39m torch\u001b[38;5;241m.\u001b[39msum(\u001b[38;5;241m1\u001b[39m \u001b[38;5;241m+\u001b[39m sigma_a \u001b[38;5;241m-\u001b[39m mu_a\u001b[38;5;241m.\u001b[39mpow(\u001b[38;5;241m2\u001b[39m) \u001b[38;5;241m-\u001b[39m sigma_a\u001b[38;5;241m.\u001b[39mexp()), \u001b[38;5;241m0\u001b[39m, \u001b[38;5;241m10000\u001b[39m)\n\u001b[1;32m    327\u001b[0m \u001b[38;5;66;03m# calculate the loss\u001b[39;00m\n\u001b[0;32m--> 328\u001b[0m r_loss_w, a_loss_w, d_loss_w, kl_div_R, kl_div_A, kl_div_w \u001b[38;5;241m=\u001b[39m loss_weight\n\u001b[1;32m    329\u001b[0m reconstruct_loss \u001b[38;5;241m=\u001b[39m r_loss_w \u001b[38;5;241m*\u001b[39m (lossR2R \u001b[38;5;241m+\u001b[39m lossA2R) \u001b[38;5;241m+\u001b[39m a_loss_w \u001b[38;5;241m*\u001b[39m (lossR2A \u001b[38;5;241m+\u001b[39m lossA2A)\n\u001b[1;32m    331\u001b[0m kl_div \u001b[38;5;241m=\u001b[39m kl_div_r \u001b[38;5;241m+\u001b[39m kl_div_a\n",
      "\u001b[0;31mValueError\u001b[0m: too many values to unpack (expected 6)"
     ]
    }
   ],
   "source": [
    "butterfly.train_model() #(output_path='./data/Glioblastoma/scbutterfly_model_6419_A', logging_path='./data/Glioblastoma/scbutterfly_model_6419_A/logs')"
   ]
  },
  {
   "cell_type": "code",
   "execution_count": 22,
   "metadata": {},
   "outputs": [
    {
     "ename": "NameError",
     "evalue": "name 'loss_weight' is not defined",
     "output_type": "error",
     "traceback": [
      "\u001b[0;31m---------------------------------------------------------------------------\u001b[0m",
      "\u001b[0;31mNameError\u001b[0m                                 Traceback (most recent call last)",
      "Cell \u001b[0;32mIn[22], line 1\u001b[0m\n\u001b[0;32m----> 1\u001b[0m \u001b[38;5;28mprint\u001b[39m(\u001b[38;5;124m\"\u001b[39m\u001b[38;5;124mloss_weight:\u001b[39m\u001b[38;5;124m\"\u001b[39m, \u001b[43mloss_weight\u001b[49m)\n\u001b[1;32m      2\u001b[0m \u001b[38;5;28mprint\u001b[39m(\u001b[38;5;124m\"\u001b[39m\u001b[38;5;124mLength of loss_weight:\u001b[39m\u001b[38;5;124m\"\u001b[39m, \u001b[38;5;28mlen\u001b[39m(loss_weight))\n",
      "\u001b[0;31mNameError\u001b[0m: name 'loss_weight' is not defined"
     ]
    }
   ],
   "source": [
    "print(\"loss_weight:\", loss_weight)\n",
    "print(\"Length of loss_weight:\", len(loss_weight))"
   ]
  },
  {
   "cell_type": "code",
   "execution_count": null,
   "metadata": {},
   "outputs": [
    {
     "name": "stderr",
     "output_type": "stream",
     "text": [
      "[INFO] Butterfly: testing butterfly model ...\n",
      "[INFO] Butterfly: testing butterfly model ...\n",
      "[INFO] Butterfly: testing butterfly model ...\n",
      "[INFO] Butterfly: testing butterfly model ...\n",
      "[INFO] Tester: get predicting ...\n",
      "RNA to ATAC predicting...: 100%|██████████████████████████████████████| 2/2 [00:02<00:00,  1.07s/it]\n",
      "ATAC to RNA predicting...: 100%|██████████████████████████████████████| 2/2 [00:02<00:00,  1.23s/it]\n",
      "[INFO] Tester: calculate neighbors graph for following test ...\n"
     ]
    }
   ],
   "source": [
    "A2R_predict, R2A_predict = butterfly.test_model()"
   ]
  },
  {
   "cell_type": "code",
   "execution_count": null,
   "metadata": {},
   "outputs": [],
   "source": [
    "from scButterfly.calculate_cluster import calculate_cluster_index"
   ]
  },
  {
   "cell_type": "code",
   "execution_count": null,
   "metadata": {},
   "outputs": [
    {
     "data": {
      "image/png": "[encoded data removed]",
      "text/plain": [
       "<Figure size 1455.6x480 with 2 Axes>"
      ]
     },
     "metadata": {},
     "output_type": "display_data"
    }
   ],
   "source": [
    "sc.tl.tsne(A2R_predict)\n",
    "sc.tl.leiden(A2R_predict)\n",
    "sc.pl.tsne(A2R_predict, color=['cell_type', 'leiden'], legend_loc='on data', legend_fontsize='small', size=40)"
   ]
  },
  {
   "cell_type": "code",
   "execution_count": null,
   "metadata": {},
   "outputs": [
    {
     "name": "stdout",
     "output_type": "stream",
     "text": [
      "RNA to ATAC:\n",
      "ARI: 0.949, \tAMI: 0.951, \tNMI: 0.954, \tHOM: 0.954\n"
     ]
    }
   ],
   "source": [
    "ARI, AMI, NMI, HOM = calculate_cluster_index(R2A_predict)\n",
    "print('RNA to ATAC:\\nARI: %.3f, \\tAMI: %.3f, \\tNMI: %.3f, \\tHOM: %.3f' % (ARI, AMI, NMI, HOM))"
   ]
  },
  {
   "cell_type": "code",
   "execution_count": null,
   "metadata": {},
   "outputs": [
    {
     "name": "stdout",
     "output_type": "stream",
     "text": [
      "ATAC to RNA:\n",
      "ARI: 0.636, \tAMI: 0.825, \tNMI: 0.839, \tHOM: 1.000\n"
     ]
    }
   ],
   "source": [
    "ARI, AMI, NMI, HOM = calculate_cluster_index(A2R_predict)\n",
    "print('ATAC to RNA:\\nARI: %.3f, \\tAMI: %.3f, \\tNMI: %.3f, \\tHOM: %.3f' % (ARI, AMI, NMI, HOM))"
   ]
  }
 ],
 "metadata": {
  "kernelspec": {
   "display_name": "Python 3 (ipykernel)",
   "language": "python",
   "name": "python3"
  },
  "language_info": {
   "codemirror_mode": {
    "name": "ipython",
    "version": 3
   },
   "file_extension": ".py",
   "mimetype": "text/x-python",
   "name": "python",
   "nbconvert_exporter": "python",
   "pygments_lexer": "ipython3",
   "version": "3.11.9"
  }
 },
 "nbformat": 4,
 "nbformat_minor": 2
}
